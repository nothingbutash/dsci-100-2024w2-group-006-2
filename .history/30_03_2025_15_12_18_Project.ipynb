{
 "cells": [
  {
   "cell_type": "code",
   "execution_count": null,
   "id": "763f2c40-bf84-4af3-ae4e-94062bb85762",
   "metadata": {},
   "outputs": [],
   "source": [
    "#Run this cell before the other stuff\n",
    "library(tidyverse)"
   ]
  },
  {
   "cell_type": "code",
   "execution_count": null,
   "id": "5ad9e31b-e146-40e1-ba59-7086a35dcc0a",
   "metadata": {},
   "outputs": [],
   "source": [
    "players <- read_csv(\"https://raw.githubusercontent.com/nothingbutash/dsci-100-2024w2-group-006-2/refs/heads/main/players.csv\") |>\n",
    "    mutate(experience = as_factor(experience))\n",
    "players"
   ]
  },
  {
   "cell_type": "markdown",
   "id": "2233cbe3-39c0-4804-a077-3f156c18d50b",
   "metadata": {},
   "source": [
    "**(1)**\n",
    "I chose players.csv:\n",
    "- *players.csv has 196 observations and 7 variables. These variables include:*\n",
    "    1. experience: character (but should be factor) noting player's Minecraft familiarity. Likely self-reported.\n",
    "    2. subscribe: logical, true if the player subscribed to the newsletter.\n",
    "    3. hashedEmail:  char, player's encoded email address.\n",
    "    4. played_hours: numeric (double). Likely tracked by server.\n",
    "    5. name: char, first name of player.\n",
    "    6. gender: char, gender of player. Likely self-reported.\n",
    "    7. Age: numeric (double), age of participant.\n",
    "\n",
    "- *Issues:*\n",
    "\n",
    "    1. Experience may be self-reported and thus difficult to apply quantitatively (also numerical operations won't work on it).\n",
    "    2. From a cursory look in the data, there appears to be a concentration around 15 - 24. This may constitute data skew.\n",
    "    3. Participants who entered their age at different enough times can have incorrect relative ages to each other. If the ages are calculated using date of birth, this should not be a problem though.\n",
    "\n",
    "Summary statistics below."
   ]
  },
  {
   "cell_type": "code",
   "execution_count": null,
   "id": "bb083d6a-eb79-47b2-9e9d-64318e9d4e1c",
   "metadata": {},
   "outputs": [],
   "source": [
    "subscribed_players <- players |>\n",
    "    filter(subscribe == TRUE) |>\n",
    "    nrow()\n",
    "nonsubscribed_players <- players |>\n",
    "    filter(subscribe == FALSE) |>\n",
    "    nrow()\n",
    "print(paste0(subscribed_players, \" players out of 196 are subscribed, aka \", subscribed_players/196*100, \" percent.\"))\n"
   ]
  },
  {
   "cell_type": "code",
   "execution_count": null,
   "id": "7ae5edbf-09ca-4cbd-8667-8cb29d15f729",
   "metadata": {},
   "outputs": [],
   "source": [
    "types_count <- players |>\n",
    "    group_by(experience) |>\n",
    "    summarize(num = n())\n",
    "types_count\n",
    "#The above is a table of the number of players belonging to each type\n",
    "percent_types <- types_count |>\n",
    "    mutate(percent_of_sample = num/196*100) |>\n",
    "    select(experience, percent_of_sample)\n",
    "percent_types\n",
    "#The above is a table of the percentage of the sample each player type represents (out of 196 total)\n",
    "#I selected for experience and num to make it more clear without irrelevant data getting in the way"
   ]
  },
  {
   "cell_type": "markdown",
   "id": "66dd79dd-6ad3-4e92-966f-0da489f79539",
   "metadata": {},
   "source": [
    "The above statistics show the composition of the dataset, in terms of those subscribed and of different experiences listed."
   ]
  },
  {
   "cell_type": "markdown",
   "id": "e0869dd0-cab9-404a-940e-00001e5837e9",
   "metadata": {},
   "source": [
    "**(2)**\n",
    "The broad question I want to address is Question 1. My specific question is \"Can age, self-reported experience, and/or playtime on the server predict whether a player signs up for the newsletter?\"\n",
    "\n",
    "I will answer the question by saying which, if any of the variables, can. The data will help me by providing a large sample with a diverse spread of values. I will wrangle it by turning experience to factor."
   ]
  },
  {
   "cell_type": "markdown",
   "id": "f7c737d8-5562-4eec-b8ea-cdff1691c94f",
   "metadata": {},
   "source": [
    "**(3)**\n",
    "Above (at [25]) I loaded and wrangled the dataset. The data appears tidy (one observation per row, value per cell, and variable per column).\n",
    "\n",
    "The table of mean values is below:"
   ]
  },
  {
   "cell_type": "code",
   "execution_count": null,
   "id": "7fff624a-39c7-4023-b3e5-4af6f3cb7cb4",
   "metadata": {},
   "outputs": [],
   "source": [
    "#It was a fairly simple process to get a table of the numeric variable's mean values, as I applied the process learned in class\n",
    "mean_table <- players |>\n",
    "    select(played_hours,Age) |>\n",
    "    map_df(mean, na.rm = TRUE)\n",
    "# noticed that there's at least one NA value in Age (???) so I had to remove them\n",
    "mean_table"
   ]
  },
  {
   "cell_type": "code",
   "execution_count": null,
   "id": "57662331-41f2-46bd-920d-a92c9b6ad986",
   "metadata": {},
   "outputs": [],
   "source": [
    "#In this table, I recorded the amount of subscribed players within each type.\n",
    "subscribed_types_count <- players |>\n",
    "    filter(subscribe == TRUE) |>\n",
    "    group_by(experience) |>\n",
    "    summarize(num = n())\n",
    "\n",
    "#To account for differing amounts of each type, I used the below process to return subscription percentages for each player type\n",
    "subscription_by_type_percentages <- subscribed_types_count |>\n",
    "    bind_cols(types_count) |>\n",
    "    mutate(percent_sub = num...2 / num...4 * 100) |>\n",
    "    mutate(experience = experience...1) |>\n",
    "    select(experience, percent_sub)\n",
    "\n",
    "#Finally, I used the data from above to make a visualization comparing subscription rates across player types.\n",
    "subscription_by_type_plot <- subscription_by_type_percentages |>\n",
    "    ggplot(aes(x = experience, y = percent_sub)) +\n",
    "    geom_bar(stat = \"identity\") +\n",
    "    labs(x = \"Experience Type\", y = \"Percent of Player Type Subscribed\", title = \"Player Type Subscription Percentages\") +\n",
    "    theme(text = element_text(size = 20))\n",
    "subscription_by_type_plot"
   ]
  },
  {
   "cell_type": "markdown",
   "id": "a28a2d76-9a40-4101-9216-0be4dd7d7f28",
   "metadata": {},
   "source": [
    "The subscription percentages appear to be quite similar. This may not be a good predictor (or be problematic to analyze). However, prior to further predictive analysis this is unproven."
   ]
  },
  {
   "cell_type": "code",
   "execution_count": null,
   "id": "3059b9a8-328f-4718-ab64-ed45fe2a3c65",
   "metadata": {},
   "outputs": [],
   "source": [
    "#For this visualization, I plan to plot age against playtime, with colour denoting subscription status (similar to the cancer classification example from class)\n",
    "playtime_age_plot <- players |>\n",
    "    ggplot(aes(x = Age, y = played_hours, color = subscribe)) +\n",
    "    geom_point(alpha = 0.6) +\n",
    "    labs(x = \"Age (years)\", y = \"Playtime (Hours)\", color = \"Subscribed (yes or no)\")\n",
    "\n",
    "playtime_age_plot"
   ]
  },
  {
   "cell_type": "markdown",
   "id": "19b195bf-0615-4941-8887-bbd3d61828e0",
   "metadata": {},
   "source": [
    "It appears most players have playtimes below 10 hours, and anyone above that is subscribed, which is intriguing. Additionally, higher playtimes are more common among younger people (age > 30), emphasizing the importance of scaling and centering the data."
   ]
  },
  {
   "cell_type": "markdown",
   "id": "6f7fe34e-1a19-4bd2-86db-98b69631b7d6",
   "metadata": {},
   "source": [
    "**(4)**\n",
    "I plan to determine if my variables are individually good predictors of subscription then use the good ones together in a model. I will use k-nearest neighbours classification since it's versatile and I'm predicting a non-numeric variable.\n",
    "\n",
    "\n",
    "I will split 75% of the data for training. Then I will cross-validate using a V of 5, and find the most accurate k value from 1 to 196. I will find the tested accuracy of the optimal k then see if it's good.\n",
    "\n",
    "A variable will be a good predictor with a testing accuracy above 55% (the model performs better than random guessing, give or take the standard 5% uncertainty). I want the same or better for my conjunction model.\n",
    "\n",
    "This model will use knn, so I'll be sure to scale and center the data. I am assuming that the data (both self-reported and virtually recorded) is accurate, and that the sample is representative enough.\n"
   ]
  }
 ],
 "metadata": {
  "kernelspec": {
   "display_name": "R",
   "language": "R",
   "name": "ir"
  },
  "language_info": {
   "codemirror_mode": "r",
   "file_extension": ".r",
   "mimetype": "text/x-r-source",
   "name": "R",
   "pygments_lexer": "r",
   "version": "4.3.3"
  }
 },
 "nbformat": 4,
 "nbformat_minor": 5
}
