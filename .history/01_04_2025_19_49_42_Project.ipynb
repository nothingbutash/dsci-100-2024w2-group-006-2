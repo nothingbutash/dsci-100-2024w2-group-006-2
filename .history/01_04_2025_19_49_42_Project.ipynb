{
 "cells": [
  {
   "cell_type": "code",
   "execution_count": null,
   "id": "763f2c40-bf84-4af3-ae4e-94062bb85762",
   "metadata": {},
   "outputs": [],
   "source": [
    "#Run this cell before the other stuff\n",
    "library(tidyverse)\n",
    "library(repr)\n",
    "library(tidymodels)\n",
    "options(repr.matrix.max.rows = 6)\n",
    "source('cleanup.R')"
   ]
  },
  {
   "cell_type": "code",
   "execution_count": null,
   "id": "f7705556-85ec-42cc-8d68-487901e8c125",
   "metadata": {},
   "outputs": [],
   "source": [
    "#reading in the data\n",
    "players <- read_csv(\"https://raw.githubusercontent.com/nothingbutash/dsci-100-2024w2-group-006-2/refs/heads/main/players.csv\")"
   ]
  },
  {
   "cell_type": "code",
   "execution_count": null,
   "id": "5ad9e31b-e146-40e1-ba59-7086a35dcc0a",
   "metadata": {},
   "outputs": [],
   "source": [
    "players <- players |>\n",
    "    #Changing column names to be more uniform (removed camel case and capitalization)\n",
    "    #Also had to make subscribe a factor rather than logical, as classification does not work otherwise\n",
    "    mutate(experience = as_factor(experience), hashed_email = hashedEmail, age = Age, subscribe = as_factor(subscribe)) |>\n",
    "    select(-hashedEmail, -Age)\n",
    "players"
   ]
  },
  {
   "cell_type": "code",
   "execution_count": null,
   "id": "ca2a4921-c179-4ac1-afff-992c9c4971ca",
   "metadata": {},
   "outputs": [],
   "source": [
    "sample_stats <- players |>\n",
    "    #calculating the mean, median, and standard deviation with summarize\n",
    "    summarize(sample_mean = mean(age, na.rm = TRUE), sample_med = median(age, na.rm = TRUE), sample_sd = sd(age, na.rm = TRUE))\n",
    "sample_stats\n",
    "\n",
    "sample_distribution <- ggplot(players, aes(x = age)) + \n",
    "   geom_histogram(binwidth = 1) +\n",
    "   labs(x = \"Age (Years)\", y = \"Number of People\") +\n",
    "   ggtitle(\"Age Distribution of Players\")\n",
    "sample_distribution"
   ]
  },
  {
   "cell_type": "code",
   "execution_count": null,
   "id": "bb083d6a-eb79-47b2-9e9d-64318e9d4e1c",
   "metadata": {},
   "outputs": [],
   "source": [
    "subscribed_players <- players |>\n",
    "    filter(subscribe == TRUE) |>\n",
    "    nrow()\n",
    "nonsubscribed_players <- players |>\n",
    "    filter(subscribe == FALSE) |>\n",
    "    nrow()\n",
    "print(paste0(subscribed_players, \" players out of 196 are subscribed, aka \", subscribed_players/196*100, \" percent.\"))\n"
   ]
  },
  {
   "cell_type": "markdown",
   "id": "f7c737d8-5562-4eec-b8ea-cdff1691c94f",
   "metadata": {},
   "source": [
    "**(3)**\n",
    "Above (at [25]) I loaded and wrangled the dataset. The data appears tidy (one observation per row, value per cell, and variable per column).\n",
    "\n",
    "The table of mean values is below:"
   ]
  },
  {
   "cell_type": "code",
   "execution_count": null,
   "id": "7fff624a-39c7-4023-b3e5-4af6f3cb7cb4",
   "metadata": {},
   "outputs": [],
   "source": [
    "#It was a fairly simple process to get a table of the numeric variable's mean values, as I applied the process learned in class\n",
    "mean_table <- players |>\n",
    "    select(played_hours,age) |>\n",
    "    map_df(mean, na.rm = TRUE)\n",
    "# noticed that there's at least one NA value in Age (???) so I had to remove them\n",
    "mean_table"
   ]
  },
  {
   "cell_type": "markdown",
   "id": "a28a2d76-9a40-4101-9216-0be4dd7d7f28",
   "metadata": {},
   "source": [
    "The subscription percentages appear to be quite similar. This may not be a good predictor (or be problematic to analyze). However, prior to further predictive analysis this is unproven."
   ]
  },
  {
   "cell_type": "code",
   "execution_count": null,
   "id": "3059b9a8-328f-4718-ab64-ed45fe2a3c65",
   "metadata": {},
   "outputs": [],
   "source": [
    "#For this visualization, I plan to plot age against playtime, with colour denoting subscription status (similar to the cancer classification example from class)\n",
    "playtime_age_plot <- players |>\n",
    "    ggplot(aes(x = age, y = played_hours, color = subscribe)) +\n",
    "    geom_point(alpha = 0.6) +\n",
    "    labs(x = \"Age (years)\", y = \"Playtime (Hours)\", color = \"Subscribed (yes or no)\")\n",
    "\n",
    "playtime_age_plot"
   ]
  },
  {
   "cell_type": "markdown",
   "id": "19b195bf-0615-4941-8887-bbd3d61828e0",
   "metadata": {},
   "source": [
    "It appears most players have playtimes below 10 hours, and anyone above that is subscribed, which is intriguing. Additionally, higher playtimes are more common among younger people (age > 30), emphasizing the importance of scaling and centering the data."
   ]
  },
  {
   "cell_type": "code",
   "execution_count": null,
   "id": "ce34185c-fa89-45de-ad88-51b320ab22c5",
   "metadata": {},
   "outputs": [],
   "source": [
    "#cut out extreme outliers to provide better visual of data points\n",
    "playtime_age_plot_better_visual <- playtime_age_plot +\n",
    "    ylim(0, 4.5) +\n",
    "    labs(title = \"Age of player vs. average hours played in game (edited)\")\n",
    "playtime_age_plot_better_visual\n"
   ]
  },
  {
   "cell_type": "markdown",
   "id": "2953997c-fb6c-4cbc-94f2-0534eec83e73",
   "metadata": {},
   "source": [
    "To start off, we will analyze whether age is a good predictor of subscription status. To do this I will split the data with 75% going to training and 25% going to testing, with the strata being the age."
   ]
  },
  {
   "cell_type": "code",
   "execution_count": null,
   "id": "c8bf9a40-f5e5-48e5-bc3f-20e5d437890c",
   "metadata": {},
   "outputs": [],
   "source": [
    "players_split_age <- initial_split(players, prop = 0.75, strata = age)  \n",
    "players_train_age <- training(players_split_age)   \n",
    "players_test_age <- testing(players_split_age)"
   ]
  },
  {
   "cell_type": "markdown",
   "id": "eb60d857-8862-4720-8c16-44d29ce28394",
   "metadata": {},
   "source": [
    "Made a recipe for predicting subscribe based on age."
   ]
  },
  {
   "cell_type": "code",
   "execution_count": null,
   "id": "f84ac1bf-c39d-4dfe-a5d9-ba15ba72a8f8",
   "metadata": {},
   "outputs": [],
   "source": [
    "players_recipe_age <- recipe(subscribe ~ age, data = players_train_age) |>\n",
    "    step_scale(all_predictors()) |>\n",
    "    step_center(all_predictors()) \n"
   ]
  },
  {
   "cell_type": "markdown",
   "id": "9d090d6a-7dc4-4b96-93c0-1c37af1103bc",
   "metadata": {},
   "source": [
    "Made the model specification, a knn model for classification."
   ]
  },
  {
   "cell_type": "code",
   "execution_count": null,
   "id": "91b243dc-4999-463c-8a7b-7ad581991040",
   "metadata": {},
   "outputs": [],
   "source": [
    "knn_tune <- nearest_neighbor(weight_func = \"rectangular\", neighbors = tune()) |>\n",
    "      set_engine(\"kknn\") |>\n",
    "      set_mode(\"classification\")"
   ]
  },
  {
   "cell_type": "markdown",
   "id": "f8db4299-bce4-4ad9-a9d7-5b50ffee897e",
   "metadata": {},
   "source": [
    "Made the workflow for tuning the model, collected the metrics, and found the best value of k."
   ]
  },
  {
   "cell_type": "code",
   "execution_count": null,
   "id": "ac836fd1-bed1-4825-acf5-ca58c675c499",
   "metadata": {},
   "outputs": [],
   "source": [
    "players_vfold_age <- players_train_age |>\n",
    "    vfold_cv(v = 5, strata = age)\n",
    "\n",
    "k_vals <- tibble(neighbors = seq(from = 1, to = 111, by = 1))\n",
    "\n",
    "knn_results <- workflow() |>\n",
    "      add_recipe(players_recipe_age) |>\n",
    "      add_model(knn_tune) |>\n",
    "      tune_grid(resamples = players_vfold_age, grid = k_vals) |>\n",
    "      collect_metrics()\n",
    "knn_results\n",
    "\n"
   ]
  },
  {
   "cell_type": "markdown",
   "id": "5bf91d3a-5957-4598-945f-1e905bef3c0d",
   "metadata": {},
   "source": [
    "Now we will get the best k value in terms of accuracy."
   ]
  },
  {
   "cell_type": "code",
   "execution_count": null,
   "id": "1539c673-eaff-418b-a907-237eb7e630f3",
   "metadata": {},
   "outputs": [],
   "source": [
    "best_k_age <- knn_results |>\n",
    "    filter(.metric == \"accuracy\") |>\n",
    "    slice_max(order_by = mean, n = 1)\n",
    "best_k_age"
   ]
  },
  {
   "cell_type": "markdown",
   "id": "185942e6-c9c6-463b-8e63-be6ab4f2423b",
   "metadata": {},
   "source": [
    "Since 5 and 6 work equally well, we will choose 5 for the possibly lower computation cost. Now we will train a knn classification model with our best k of 5."
   ]
  },
  {
   "cell_type": "code",
   "execution_count": null,
   "id": "8a275358-482a-4fd0-810f-ee16cdc6d4c9",
   "metadata": {},
   "outputs": [],
   "source": [
    "knn_spec_age <- nearest_neighbor(weight_func = \"rectangular\", neighbors = 5) |>\n",
    "      set_engine(\"kknn\") |>\n",
    "      set_mode(\"classification\")"
   ]
  },
  {
   "cell_type": "code",
   "execution_count": null,
   "id": "2d97e927-0db5-49a6-beb5-2223caf77729",
   "metadata": {},
   "outputs": [],
   "source": [
    "players_fit_age <- workflow() |>\n",
    "    add_recipe(players_recipe_age) |>\n",
    "    add_model(knn_spec_age) |>\n",
    "    fit(data = players_train_age)"
   ]
  },
  {
   "cell_type": "markdown",
   "id": "d2b5a3c8-eaa7-4c00-97c3-1b79dda67dc8",
   "metadata": {},
   "source": [
    "Now we need to get the accuracy of the model on the testing set."
   ]
  },
  {
   "cell_type": "code",
   "execution_count": null,
   "id": "1c35fff1-c6b8-4a57-88f8-4b804f80a0ea",
   "metadata": {},
   "outputs": [],
   "source": [
    "age_accuracy <- predict(players_fit_age, players_test_age) |>\n",
    "    bind_cols(players_test_age) |>\n",
    "    conf_mat()"
   ]
  },
  {
   "cell_type": "code",
   "execution_count": null,
   "id": "8ef83096-d556-4c91-8eec-3416445f0c01",
   "metadata": {},
   "outputs": [],
   "source": []
  }
 ],
 "metadata": {
  "kernelspec": {
   "display_name": "R",
   "language": "R",
   "name": "ir"
  },
  "language_info": {
   "codemirror_mode": "r",
   "file_extension": ".r",
   "mimetype": "text/x-r-source",
   "name": "R",
   "pygments_lexer": "r",
   "version": "4.3.3"
  }
 },
 "nbformat": 4,
 "nbformat_minor": 5
}
