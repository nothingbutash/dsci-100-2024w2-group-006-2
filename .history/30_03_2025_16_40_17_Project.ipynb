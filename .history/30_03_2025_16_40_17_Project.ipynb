{
 "cells": [
  {
   "cell_type": "code",
   "execution_count": null,
   "id": "763f2c40-bf84-4af3-ae4e-94062bb85762",
   "metadata": {},
   "outputs": [],
   "source": [
    "#Run this cell before the other stuff\n",
    "library(tidyverse)"
   ]
  },
  {
   "cell_type": "markdown",
   "id": "b3cffd51-6621-4237-aed4-04ed6599340c",
   "metadata": {},
   "source": [
    "In the cell below, I read the dataset into the notebook."
   ]
  },
  {
   "cell_type": "code",
   "execution_count": null,
   "id": "0dcd6841-81a3-4052-8cf6-52b393c571df",
   "metadata": {},
   "outputs": [],
   "source": [
    "players <- read_csv(\"https://raw.githubusercontent.com/nothingbutash/dsci-100-2024w2-group-006-2/refs/heads/main/players.csv\")"
   ]
  },
  {
   "cell_type": "markdown",
   "id": "6f7fe34e-1a19-4bd2-86db-98b69631b7d6",
   "metadata": {},
   "source": [
    "I started making the dataset usable by turning the experience column into a factor variable (in case identification/grouping of the different types was needed). A few other wrangling/cleaning steps were necessary to get the data into a usable format:\n",
    "- I changed the Age column to age in order to match the names of the others.\n",
    "- I changed the hashedEmail column to use _ rather than camel case to match the rest."
   ]
  },
  {
   "cell_type": "code",
   "execution_count": null,
   "id": "5ad9e31b-e146-40e1-ba59-7086a35dcc0a",
   "metadata": {},
   "outputs": [],
   "source": [
    "players <- players |>\n",
    "    ##creating the new columns with proper names, then removing the old ones\n",
    "    mutate(experience = as_factor(experience), age = Age, hashed_email = hashedEmail) |>\n",
    "    select(-Age, -hashedEmail)\n",
    "players"
   ]
  },
  {
   "cell_type": "markdown",
   "id": "2162dc1e-0993-4a0f-9fb0-a1c8de2e4edf",
   "metadata": {},
   "source": [
    "In the cell below, I have visualized the age distribution of the sample, as well as calculated several statistics (mean age, median age, and standard deviation)."
   ]
  },
  {
   "cell_type": "code",
   "execution_count": null,
   "id": "380687a3-a086-4630-a16c-7c820e13bb83",
   "metadata": {},
   "outputs": [],
   "source": []
  }
 ],
 "metadata": {
  "kernelspec": {
   "display_name": "R",
   "language": "R",
   "name": "ir"
  },
  "language_info": {
   "codemirror_mode": "r",
   "file_extension": ".r",
   "mimetype": "text/x-r-source",
   "name": "R",
   "pygments_lexer": "r",
   "version": "4.3.3"
  }
 },
 "nbformat": 4,
 "nbformat_minor": 5
}
