{
 "cells": [
  {
   "cell_type": "code",
   "execution_count": null,
   "id": "763f2c40-bf84-4af3-ae4e-94062bb85762",
   "metadata": {},
   "outputs": [],
   "source": [
    "#Run this cell before the other stuff\n",
    "library(tidyverse)"
   ]
  },
  {
   "cell_type": "markdown",
   "id": "b3cffd51-6621-4237-aed4-04ed6599340c",
   "metadata": {},
   "source": [
    "In the cell below, I read the dataset into the notebook."
   ]
  },
  {
   "cell_type": "code",
   "execution_count": null,
   "id": "0dcd6841-81a3-4052-8cf6-52b393c571df",
   "metadata": {},
   "outputs": [],
   "source": [
    "players <- read_csv(\"https://raw.githubusercontent.com/nothingbutash/dsci-100-2024w2-group-006-2/refs/heads/main/players.csv\")"
   ]
  },
  {
   "cell_type": "markdown",
   "id": "6f7fe34e-1a19-4bd2-86db-98b69631b7d6",
   "metadata": {},
   "source": [
    "I started making the dataset usable by turning the experience column into a factor variable (in case identification/grouping of the different types was needed). A few other wrangling/cleaning steps were necessary to get the data into a usable format:\n",
    "- I changed the Age column to age in order to match the names of the others.\n",
    "- I changed the hashedEmail column to use _ rather than camel case to match the rest."
   ]
  },
  {
   "cell_type": "code",
   "execution_count": null,
   "id": "5ad9e31b-e146-40e1-ba59-7086a35dcc0a",
   "metadata": {},
   "outputs": [],
   "source": [
    "players <- players |>\n",
    "    ##creating the new columns with proper names, then removing the old ones\n",
    "    mutate(experience = as_factor(experience), age = Age, hashed_email = hashedEmail) |>\n",
    "    select(-Age, -hashedEmail)\n",
    "players"
   ]
  },
  {
   "cell_type": "markdown",
   "id": "2162dc1e-0993-4a0f-9fb0-a1c8de2e4edf",
   "metadata": {},
   "source": [
    "In the cell below, I have visualized the age distribution of the sample, as well as calculated several statistics (mean age, median age, and standard deviation)."
   ]
  },
  {
   "cell_type": "code",
   "execution_count": null,
   "id": "cd43b8db-6c0c-4389-b997-c642272f1418",
   "metadata": {},
   "outputs": [],
   "source": [
    "sample_stats <- players |>\n",
    "    #calculating the mean, median, and standard deviation with summarize\n",
    "    summarize(sample_mean = mean(age, na.rm = TRUE), sample_med = median(age, na.rm = TRUE), sample_sd = sd(age, na.rm = TRUE))\n",
    "sample_stats\n",
    "\n",
    "sample_distribution <- ggplot(players, aes(x = age)) + \n",
    "   geom_histogram(binwidth = 1) +\n",
    "   labs(x = \"Age (Years)\", y = \"Number of People\") +\n",
    "   ggtitle(\"Age Distribution of Players\")\n",
    "sample_distribution"
   ]
  },
  {
   "cell_type": "code",
   "execution_count": null,
   "id": "7105cf02-91f7-431b-a985-b3740c366e5a",
   "metadata": {},
   "outputs": [],
   "source": [
    "players_data_selected <- players_data |>\n",
    "    select(Age, subscribe, played_hours)\n",
    "\n",
    "players_plot <- players_data_selected |>\n",
    "        ggplot(aes(x = Age, y = played_hours, color = subscribe))+\n",
    "        geom_point()+            \n",
    "        xlab(\"Age of Player (yrs)\")+\n",
    "        ylab(\"Hours Played\")+\n",
    "        labs(title = \"Age of player vs. average hours played in game\")\n",
    "players_plot\n",
    "\n",
    "#cut out extreme outliers to provide better visual of sdata points\n",
    "players_plot_better_visual <- players_plot +\n",
    "    ylim(0, 4.5) +\n",
    "    labs(title = \"Age of player vs. average hours played in game (edited)\")\n",
    "players_plot_better_visual"
   ]
  },
  {
   "cell_type": "code",
   "execution_count": null,
   "id": "a2bb9e81-94d1-4524-bce9-e09a99e81764",
   "metadata": {},
   "outputs": [],
   "source": []
  }
 ],
 "metadata": {
  "kernelspec": {
   "display_name": "R",
   "language": "R",
   "name": "ir"
  },
  "language_info": {
   "codemirror_mode": "r",
   "file_extension": ".r",
   "mimetype": "text/x-r-source",
   "name": "R",
   "pygments_lexer": "r",
   "version": "4.3.3"
  }
 },
 "nbformat": 4,
 "nbformat_minor": 5
}
