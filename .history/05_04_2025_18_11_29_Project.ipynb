{
 "cells": [
  {
   "cell_type": "markdown",
   "id": "5f4510fe-1d32-454a-b377-edc452818ceb",
   "metadata": {},
   "source": [
    "**INTRODUCTION**\n",
    "\n",
    "The research of video games has become an increasingly important field with researchers trying to understand player behavior, engagement, and decision-making. Games like Minecraft provide a rich environment for studying how players interact with virtual worlds, what motivates them to continue playing, and how they engage with game-related content outside the game itself.\n",
    "\n",
    "One key aspect of player engagement that is being investigated in this project is whether individuals choose to subscribe to game-related newsletters, which may provide updates, community news, or exclusive content. Subscription behavior can be influenced by multiple factors, including a player's in-game activity, demographics, and personal interest in the game. Identifying which characteristics are most predictive of subscription can help game developers and researchers better target recruitment efforts, optimize outreach strategies, and enhance player retention.\n",
    "This study focuses on data collected from a Minecraft research server operated by a group at the University of British Columbia (UBC). Their mission is to advance the frontiers of artificial intelligence through groundbreaking work in generative modelling, reinforcement learning, probabilistic programming, and Bayesian inference. Players' actions within the game are logged, allowing researchers to analyze patterns in behavior and demographic traits. In this project, our main characteristics are age and the hours played by a user and seeing how they connect to their subscription status.\n",
    "\n",
    "Understanding these predictive factors can have practical implications for managing server resources, tailoring communication strategies, and improving the overall player experience.\n",
    "\n",
    "The research question that we are aiming to explore in this project is: Can age of player and hours played predict whether or not a player is subscribed to a game-related newsletter in the players.csv dataset? This involves using a knn-classification on the data to predict either a TRUE or FALSE in player subscription. \n",
    "\n",
    "The dataset that we'll be using for our prediction is \"players.csv\", which contains 196 observations and 7 variables:\n",
    "1. experience\n",
    "     - the player's previous experiences in minecraft\n",
    "2. subscribe\n",
    "     - whether the player is subscribed to a game-related newsletter\n",
    "3. hashedEmail\n",
    "     - the player's email in an encrypted format\n",
    "4. played_hours\n",
    "     - the amount of hours the player has played on Minecraft\n",
    "5. name\n",
    "     - the player's name\n",
    "6. gender\n",
    "     - the player's recorded gender\n",
    "7. age\n",
    "     - recorded age of the player\n",
    "  \n",
    "There may be some discrepencies in the data with actual facts, as the data is completely reliant on accurate and truthful reporting of data when it comes to each player. There is also no guarantee that the players were all completely honest about their details."
   ]
  },
  {
   "cell_type": "markdown",
   "id": "b78b55ce-f14d-4456-890e-a22215bb8a48",
   "metadata": {},
   "source": [
    "**METHODS & RESULTS**\n",
    "\n",
    "We plan to determine whether the variables are individually good predictors of subscription, then use the good ones together in a model. We will use k-nearest neighbours classification since it's versatile and I'm predicting a non-numeric variable.\n",
    "\n",
    "We will split 75% of the data for training. Then we will cross-validate using a V of 5, and find the most accurate k value from 1 to 196. After that we will find the tested accuracy of the optimal k then see if it's good.\n",
    "\n",
    "A variable will be a good predictor with a testing accuracy above 55% (the model performs better than random guessing, give or take the standard 5% uncertainty). We want the same or better for our conjunction model.\n",
    "\n",
    "This model will use knn, so we'll be sure to scale and center the data. We are assuming that the data (both self-reported and virtually recorded) is accurate, and that the sample is representative enough."
   ]
  },
  {
   "cell_type": "code",
   "execution_count": null,
   "id": "a6bb9a4d-7731-4b29-a9c2-e4c4b0f8f5fa",
   "metadata": {},
   "outputs": [],
   "source": [
    "library(repr)\n",
    "library(tidyverse)\n",
    "library(tidymodels)\n",
    "options(repr.matrix.max.rows = 10)\n",
    "source(\"cleanup.R\")"
   ]
  },
  {
   "cell_type": "code",
   "execution_count": null,
   "id": "6dd50f37-37e7-4995-8695-e53383252a4e",
   "metadata": {},
   "outputs": [],
   "source": [
    "set.seed(42)"
   ]
  },
  {
   "cell_type": "code",
   "execution_count": null,
   "id": "f7705556-85ec-42cc-8d68-487901e8c125",
   "metadata": {},
   "outputs": [],
   "source": [
    "#reading in the data\n",
    "players_csv <- read_csv(\"https://raw.githubusercontent.com/nothingbutash/dsci-100-2024w2-group-006-2/refs/heads/main/players.csv\")"
   ]
  },
  {
   "cell_type": "code",
   "execution_count": null,
   "id": "5ad9e31b-e146-40e1-ba59-7086a35dcc0a",
   "metadata": {},
   "outputs": [],
   "source": [
    "players <- players_csv |>\n",
    "    #Changing column names to be more uniform (removed camel case and capitalization)\n",
    "    #Also had to make subscribe a factor rather than logical, as classification does not work otherwise\n",
    "    mutate(experience = as_factor(experience), hashed_email = hashedEmail, age = Age, subscribe = as_factor(subscribe)) |>\n",
    "    select(-hashedEmail, -Age) |>\n",
    "    na.omit()\n",
    "players"
   ]
  },
  {
   "cell_type": "code",
   "execution_count": null,
   "id": "ca2a4921-c179-4ac1-afff-992c9c4971ca",
   "metadata": {},
   "outputs": [],
   "source": [
    "sample_stats <- players |>\n",
    "    #calculating the mean, median, and standard deviation with summarize\n",
    "    summarize(sample_mean = mean(age, na.rm = TRUE), sample_med = median(age, na.rm = TRUE), sample_sd = sd(age, na.rm = TRUE))\n",
    "sample_stats\n",
    "\n",
    "sample_distribution <- ggplot(players, aes(x = age)) + \n",
    "   geom_histogram(binwidth = 1) +\n",
    "   labs(x = \"Age (Years)\", y = \"Number of People\") +\n",
    "   ggtitle(\"Age Distribution of Players\")\n",
    "sample_distribution"
   ]
  },
  {
   "cell_type": "code",
   "execution_count": null,
   "id": "e0bcf1c1-1947-4f80-8301-ff37c0cee47a",
   "metadata": {},
   "outputs": [],
   "source": [
    "hours_distribution<-ggplot(players,aes(x = played_hours))+\n",
    "geom_histogram(bins = 10,fill = \"blue\")+\n",
    "labs(x = \"Played hours\", y = \"Count\")+\n",
    "ggtitle(\"Distribution of played hours\")\n",
    "hours_distribution"
   ]
  },
  {
   "cell_type": "code",
   "execution_count": null,
   "id": "bb083d6a-eb79-47b2-9e9d-64318e9d4e1c",
   "metadata": {},
   "outputs": [],
   "source": [
    "subscribed_players <- players |>\n",
    "    filter(subscribe == TRUE) |>\n",
    "    nrow()\n",
    "nonsubscribed_players <- players |>\n",
    "    filter(subscribe == FALSE) |>\n",
    "    nrow()\n",
    "print(paste0(subscribed_players, \" players out of 196 are subscribed, aka \", subscribed_players/196*100, \" percent.\"))\n"
   ]
  },
  {
   "cell_type": "markdown",
   "id": "f7c737d8-5562-4eec-b8ea-cdff1691c94f",
   "metadata": {},
   "source": [
    "**(3)**\n",
    "Above, we loaded and wrangled the dataset. The data appears tidy (one observation per row, value per cell, and variable per column).\n",
    "\n",
    "The table of mean values is below:"
   ]
  },
  {
   "cell_type": "code",
   "execution_count": null,
   "id": "7fff624a-39c7-4023-b3e5-4af6f3cb7cb4",
   "metadata": {},
   "outputs": [],
   "source": [
    "#It was a fairly simple process to get a table of the numeric variable's mean values, as I applied the process learned in class\n",
    "mean_table <- players |>\n",
    "    select(played_hours,age) |>\n",
    "    map_df(mean, na.rm = TRUE)\n",
    "# noticed that there's at least one NA value in Age (???) so I had to remove them\n",
    "mean_table"
   ]
  },
  {
   "cell_type": "markdown",
   "id": "a28a2d76-9a40-4101-9216-0be4dd7d7f28",
   "metadata": {},
   "source": [
    "The subscription percentages appear to be quite similar. This may not be a good predictor (or be problematic to analyze). However, prior to further predictive analysis this is unproven."
   ]
  },
  {
   "cell_type": "code",
   "execution_count": null,
   "id": "3059b9a8-328f-4718-ab64-ed45fe2a3c65",
   "metadata": {},
   "outputs": [],
   "source": [
    "#For this visualization, I plan to plot age against playtime, with colour denoting subscription status (similar to the cancer classification example from class)\n",
    "playtime_age_plot <- players |>\n",
    "    ggplot(aes(x = age, y = played_hours, color = subscribe)) +\n",
    "    geom_point(alpha = 0.6) +\n",
    "    labs(x = \"Age (years)\", y = \"Playtime (Hours)\", color = \"Subscribed (yes or no)\", title = \"Age of player vs. average hours played in game\")\n",
    "\n",
    "playtime_age_plot"
   ]
  },
  {
   "cell_type": "markdown",
   "id": "19b195bf-0615-4941-8887-bbd3d61828e0",
   "metadata": {},
   "source": [
    "It appears most players have playtimes below 10 hours, and anyone above that is subscribed, which is intriguing. Additionally, higher playtimes are more common among younger people (age > 30), emphasizing the importance of scaling and centering the data."
   ]
  },
  {
   "cell_type": "code",
   "execution_count": null,
   "id": "ce34185c-fa89-45de-ad88-51b320ab22c5",
   "metadata": {},
   "outputs": [],
   "source": [
    "#cut out extreme outliers to provide better visual of data points\n",
    "playtime_age_plot_better_visual <- playtime_age_plot +\n",
    "    ylim(0, 4.5) +\n",
    "    labs(title = \"Age of player vs. average hours played in game (edited)\")\n",
    "playtime_age_plot_better_visual\n"
   ]
  },
  {
   "cell_type": "markdown",
   "id": "2953997c-fb6c-4cbc-94f2-0534eec83e73",
   "metadata": {},
   "source": [
    "To start off, we will analyze whether age is a good predictor of subscription status. To do this, we will split the data with 75% going to training and 25% going to testing, with the strata being the age."
   ]
  },
  {
   "cell_type": "code",
   "execution_count": null,
   "id": "c8bf9a40-f5e5-48e5-bc3f-20e5d437890c",
   "metadata": {},
   "outputs": [],
   "source": [
    "players_split <- initial_split(players, prop = 0.75, strata = subscribe)  \n",
    "players_train <- training(players_split)   \n",
    "players_test <- testing(players_split)"
   ]
  },
  {
   "cell_type": "markdown",
   "id": "eb60d857-8862-4720-8c16-44d29ce28394",
   "metadata": {},
   "source": [
    "Made a recipe for predicting subscribe based on age."
   ]
  },
  {
   "cell_type": "code",
   "execution_count": null,
   "id": "f84ac1bf-c39d-4dfe-a5d9-ba15ba72a8f8",
   "metadata": {},
   "outputs": [],
   "source": [
    "players_recipe <- recipe(subscribe ~ age + played_hours, data = players_train) |>\n",
    "    step_scale(all_predictors()) |>\n",
    "    step_center(all_predictors()) \n"
   ]
  },
  {
   "cell_type": "markdown",
   "id": "9d090d6a-7dc4-4b96-93c0-1c37af1103bc",
   "metadata": {},
   "source": [
    "Made the model specification, a knn model for classification."
   ]
  },
  {
   "cell_type": "code",
   "execution_count": null,
   "id": "91b243dc-4999-463c-8a7b-7ad581991040",
   "metadata": {},
   "outputs": [],
   "source": [
    "knn_tune <- nearest_neighbor(weight_func = \"rectangular\", neighbors = tune()) |>\n",
    "      set_engine(\"kknn\") |>\n",
    "      set_mode(\"classification\")"
   ]
  },
  {
   "cell_type": "markdown",
   "id": "f8db4299-bce4-4ad9-a9d7-5b50ffee897e",
   "metadata": {},
   "source": [
    "Made the workflow for tuning the model, collected the metrics, and found the best value of k."
   ]
  },
  {
   "cell_type": "code",
   "execution_count": null,
   "id": "ac836fd1-bed1-4825-acf5-ca58c675c499",
   "metadata": {},
   "outputs": [],
   "source": [
    "players_vfold <- players_train |>\n",
    "    vfold_cv(v = 5, strata = subscribe)\n",
    "\n",
    "k_vals <- tibble(neighbors = seq(from = 1, to = 112, by = 1))\n",
    "\n",
    "knn_results <- workflow() |>\n",
    "      add_recipe(players_recipe) |>\n",
    "      add_model(knn_tune) |>\n",
    "      tune_grid(resamples = players_vfold, grid = k_vals) |>\n",
    "      collect_metrics()\n",
    "knn_results\n",
    "\n"
   ]
  },
  {
   "cell_type": "markdown",
   "id": "5bf91d3a-5957-4598-945f-1e905bef3c0d",
   "metadata": {},
   "source": [
    "Now we will get the best k value in terms of accuracy. This can also be plotted as a visualization."
   ]
  },
  {
   "cell_type": "code",
   "execution_count": null,
   "id": "1539c673-eaff-418b-a907-237eb7e630f3",
   "metadata": {},
   "outputs": [],
   "source": [
    "best_k <- knn_results |>\n",
    "    filter(.metric == \"accuracy\") |>\n",
    "    slice_max(order_by = mean, n = 1)\n",
    "best_k\n",
    "\n",
    "best_k_plot <- knn_results |>\n",
    "    filter(.metric == \"accuracy\") |>\n",
    "    ggplot(aes(x = neighbors, y = mean)) +\n",
    "    geom_point() +\n",
    "    geom_line() +\n",
    "    labs(x = \"K value (1 to 28)\", y = \"Percent Accuracy of Model\", title = \"K Values vs Accuracy\")\n",
    "best_k_plot"
   ]
  },
  {
   "cell_type": "markdown",
   "id": "185942e6-c9c6-463b-8e63-be6ab4f2423b",
   "metadata": {},
   "source": [
    "From this data, the best k value appears to be k = 16"
   ]
  },
  {
   "cell_type": "code",
   "execution_count": null,
   "id": "8a275358-482a-4fd0-810f-ee16cdc6d4c9",
   "metadata": {},
   "outputs": [],
   "source": [
    "knn_spec <- nearest_neighbor(weight_func = \"rectangular\", neighbors = 16) |>\n",
    "      set_engine(\"kknn\") |>\n",
    "      set_mode(\"classification\")"
   ]
  },
  {
   "cell_type": "code",
   "execution_count": null,
   "id": "2d97e927-0db5-49a6-beb5-2223caf77729",
   "metadata": {},
   "outputs": [],
   "source": [
    "players_fit <- workflow() |>\n",
    "    add_recipe(players_recipe) |>\n",
    "    add_model(knn_spec) |>\n",
    "    fit(data = players_train)"
   ]
  },
  {
   "cell_type": "markdown",
   "id": "d2b5a3c8-eaa7-4c00-97c3-1b79dda67dc8",
   "metadata": {},
   "source": [
    "Now we need to get the accuracy of the model on the testing set."
   ]
  },
  {
   "cell_type": "code",
   "execution_count": null,
   "id": "1c35fff1-c6b8-4a57-88f8-4b804f80a0ea",
   "metadata": {},
   "outputs": [],
   "source": [
    "model_accuracy <- predict(players_fit, players_test) |>\n",
    "    bind_cols(players_test) |>\n",
    "    metrics(truth = subscribe, estimate = .pred_class) |>\n",
    "    head(1) |>\n",
    "    pull()\n",
    "model_accuracy"
   ]
  },
  {
   "cell_type": "markdown",
   "id": "afb5bf3c-8d4d-4cd3-acff-30dee557298e",
   "metadata": {},
   "source": [
    "Our accuracy with the model trained on age, is 62.3%. This is greater than 55%, thus age and played hours are a good predictor of subscription status."
   ]
  },
  {
   "cell_type": "markdown",
   "id": "84c75103-9f0c-4921-86b5-44fb4b996f56",
   "metadata": {},
   "source": [
    "**DISCUSSION**\n",
    "\n",
    "The scatter plot shows the relationship between player age and playtime, distinguishing between subscribed and unsubscribed users. The majority of players seem to be under 30 years old, with a playtime of under 10 hours. A few outliers, which we cut out in the second graph for better visualization of the other points, were seen with over 150 hours of play time, and a few above 25 hours, all below 30 years of age. Because of this, we can observe that the general trend indicates that younger players tend to have higher playtime, particularly between the ages of 10 and 30 years. Subscription status also appears to be more common among younger players with there being a larger cluster amongst those who have lower playtime. After accounting for outliers and extreme values, it would be fair to conclude that players are more likely to be subscribed if they are younger and have a lower amount of playtime hours. However, this correlation is quite weak, as the points frequently overlap and are relatively spread out throughout the graph. \n",
    "\n",
    "This aligns with expectations, since younger players likely have more free time for gaming. Those who play less could also mean they are just starting to cultivate an interest in the game, and would be more inclined to subscribe due to their lack of experience. As for the outliers, the extremely high play times may suggest a more dedicated and experienced player, who, as seen in the data, would be subscribed due to their high engagement. \n",
    "\n",
    "With the knowledge of this trend, game developers can appropriately tailor subscription models and marketing strategies to target younger players to further capitalize on their current demographic or potentially find ways to address the older demographic and convince them to subscribe. \n",
    "\n",
    "A good question to ponder for the future would be whether other variables like experience could affect the subscription status as it is possible that the outliers might be veteran players who have high engagement with the game. Similarly, we theorized that since the bulk of subscriptions come from younger players with low playtime that they might be Beginner players, therefore it would be interesting to see whether these theories would be right and whether they have an actual impact. To improve, the study can also aim to increase its sample size and recruit more players to answer the survey, as it would account for greater variability and allow for a more accurate trend to be observed. \n",
    "\n",
    "Last but not least, our accuracy of the final model is about 65.3% when the neighbour is equal to 20, which is greater than 55% which shows it is a good predictor. These results align with general expectations for k-NN models. When k is small, the model tends to be more sensitive to noise and may overfit the training data. As k increases, the model becomes more generalized by considering more neighbors, leading to better performance up to a point. The observed plateau around k = 20 to k = 21 reflects the typical behavior of k-NN. Thus, this finding is consistent with theoretical expectations and demonstrates a good example of model tuning in action.\n",
    "\n",
    "Since, selecting the appropriate k value is crucial for optimizing model performance, the fact that accuracy improves significantly with the chosen k value suggests that model tuning should never be overlooked. In real-world applications, a 10-20% improvement in accuracy can significantly influence outcomes.\n",
    "\n",
    "Furthermore, understanding the plateau behavior helps prevent unnecessary computational expense—there’s little to gain from using extremely high k values once optimal performance has been reached. In large datasets, higher k values increase computational load, so identifying the optimal range ensures better efficiency.\n",
    "\n",
    "Overall, this investigation explored the extent to which two key factors in player age and hours played can predict whether a player has subscribed to a game-related newsletter.\n",
    "\n",
    "Our analysis suggests that both age and hours played have meaningful, though not exhaustive, relationships with subscription behavior. Younger players and those who are relatively new on the server are more likely to subscribe to the newsletter, indicating that active engagement and demographic factors play a role in a player’s willingness to stay connected with the game's ecosystem. Conversely, older players with low playing time show lower subscription rates, possibly reflecting either a more casual approach to gaming or differing interests in supplemental content.\n",
    "\n",
    "However, while the predictive power of these two features is useful, it is also limited. Player behavior is shaped by a wide range of social, motivational, and contextual factors, many of which go beyond simple quantitative metrics like age and playtime. To build more developed predictive models in the future, it would be beneficial to include additional behavioral data, such as variables like experience and gender. This may yield deeper insights into why some players engage more deeply with a game's community than others.\n",
    "\n",
    "From a practical perspective, these findings offer actionable insights for the UBC research group. Understanding the characteristics of likely subscribers can help inform how and when to prompt players to sign up for the newsletter.\n",
    "\n",
    "Ultimately, this project illustrates the potential of data science to bridge gameplay behavior with real-world decisions and thereby contributing to both the success of research projects and the richness of the player experience and engagement.\n"
   ]
  },
  {
   "cell_type": "code",
   "execution_count": null,
   "id": "9011fa11-3826-41c0-9c16-a75bd8daa003",
   "metadata": {},
   "outputs": [],
   "source": []
  }
 ],
 "metadata": {
  "kernelspec": {
   "display_name": "R",
   "language": "R",
   "name": "ir"
  },
  "language_info": {
   "codemirror_mode": "r",
   "file_extension": ".r",
   "mimetype": "text/x-r-source",
   "name": "R",
   "pygments_lexer": "r",
   "version": "4.3.3"
  }
 },
 "nbformat": 4,
 "nbformat_minor": 5
}
